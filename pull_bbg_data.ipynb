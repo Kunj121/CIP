{
 "cells": [
  {
   "metadata": {
    "ExecuteTime": {
     "end_time": "2025-03-05T22:39:41.030098Z",
     "start_time": "2025-03-05T22:39:41.028263Z"
    }
   },
   "cell_type": "code",
   "source": [
    "# import pandas as pd\n",
    "# from xbbg import blp"
   ],
   "id": "f550b06d6d818ebe",
   "outputs": [],
   "execution_count": 10
  },
  {
   "metadata": {
    "collapsed": true,
    "ExecuteTime": {
     "end_time": "2025-03-05T22:39:38.387525Z",
     "start_time": "2025-03-05T22:39:38.379282Z"
    }
   },
   "cell_type": "code",
   "source": [
    "def load_bbg_fx():\n",
    "\n",
    "# Define tickers and their categories\n",
    "    interest_rates = {\n",
    "        \"AUD3M_IR\": \"BBSW3M Index\",\n",
    "        \"CAD3M_IR\": \"CDOR03 Index\",\n",
    "        \"CHF3M_IR\": \"SF0003M Index\",\n",
    "        \"EUR3M_IR\": \"EUR003M Index\",\n",
    "        \"GBP3M_IR\": \"BP0003M Index\",\n",
    "        \"JPY3M_IR\": \"JY0003M Index\",\n",
    "        \"NZD3M_IR\": \"NDBB3M Index\",\n",
    "        \"SEK3M_IR\": \"STIB3M Index\",\n",
    "        \"USD3M_IR\": \"US0003M Index\",\n",
    "    }\n",
    "\n",
    "    fx_3m = {\n",
    "        \"AUD3M\": \"AUDUSD3M BGN Curncy\",\n",
    "        \"CAD3M\": \"USDCAD3M BGN Curncy\",\n",
    "        \"CHF3M\": \"USDCHF3M BGN Curncy\",\n",
    "        \"EUR3M\": \"EURUSD3M Curncy\",\n",
    "        \"GBP3M\": \"GBPUSD3M Curncy\",\n",
    "        \"JPY3M\": \"USDJPY3M Curncy\",\n",
    "        \"NZD3M\": \"NZDUSD3M Curncy\",\n",
    "        \"SEK3M\": \"USDSEK3M Curncy\",\n",
    "    }\n",
    "\n",
    "    fx_spot = {\n",
    "        \"AUD\": \"AUDUSD Curncy\",\n",
    "        \"CAD\": \"CADUSD Curncy\",\n",
    "        \"CHF\": \"CHFUSD Curncy\",\n",
    "        \"EUR\": \"EURUSD Curncy\",\n",
    "        \"GBP\": \"GBPUSD Curncy\",\n",
    "        \"JPY\": \"JPYUSD Curncy\",\n",
    "        \"NZD\": \"NZDUSD Curncy\",\n",
    "        \"SEK\": \"SEKUSD Curncy\",\n",
    "    }\n",
    "\n",
    "    # Function to fetch Bloomberg data\n",
    "    def fetch_data(tickers, start_date=\"2010-01-01\", end_date=\"2025-03-01\", field=\"PX_LAST\"):\n",
    "        return blp.bdh(list(tickers.values()), field, start_date, end_date).rename(columns={v: k for k, v in tickers.items()})\n",
    "\n",
    "    # Fetch data\n",
    "    df_ir = fetch_data(interest_rates)\n",
    "    df_fx_3m = fetch_data(fx_3m)\n",
    "    df_fx_spot = fetch_data(fx_spot)\n",
    "\n",
    "    # Merge all data on Date index\n",
    "    df_merged = df_ir.join([df_fx_3m, df_fx_spot], how=\"outer\")\n",
    "\n",
    "    return df_merged"
   ],
   "id": "initial_id",
   "outputs": [],
   "execution_count": 9
  },
  {
   "metadata": {},
   "cell_type": "code",
   "outputs": [],
   "execution_count": null,
   "source": "",
   "id": "98af79c294ebf070"
  }
 ],
 "metadata": {
  "kernelspec": {
   "display_name": "Python 3",
   "language": "python",
   "name": "python3"
  },
  "language_info": {
   "codemirror_mode": {
    "name": "ipython",
    "version": 2
   },
   "file_extension": ".py",
   "mimetype": "text/x-python",
   "name": "python",
   "nbconvert_exporter": "python",
   "pygments_lexer": "ipython2",
   "version": "2.7.6"
  }
 },
 "nbformat": 4,
 "nbformat_minor": 5
}
